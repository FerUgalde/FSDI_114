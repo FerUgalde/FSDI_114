{
 "cells": [
  {
   "cell_type": "code",
   "execution_count": 1,
   "id": "4f7c1834-aced-4b7f-a388-237b40ebd3fb",
   "metadata": {},
   "outputs": [
    {
     "name": "stdout",
     "output_type": "stream",
     "text": [
      "h\n",
      "e\n",
      "l\n",
      "l\n",
      "o\n",
      " \n",
      "w\n",
      "o\n",
      "r\n",
      "l\n",
      "d\n"
     ]
    }
   ],
   "source": [
    "for char in \"hello world\":\n",
    "    print(char)\n",
    "    "
   ]
  },
  {
   "cell_type": "markdown",
   "id": "afdd0f45-6354-4f5c-af9d-7c321d1fc7fb",
   "metadata": {},
   "source": [
    "\n",
    "# Problem 1\n",
    "## Anagram check\n",
    "Given two strings as function, determine if these are anagrams of each other. Return True if they are, False otherwise\n",
    "\n",
    "## Criteria\n",
    "Two strings are anagrams if all the criteria below are met:\n",
    "1. They mus be of equal length\n",
    "2. They use must the same letters, the same amount of times.\n",
    "\n",
    "   Examples:\n",
    "   - anagram_check(\"heart\", \"earth\") shoud return True\n",
    "   - anagram_check(\"scar\", \"cars\") shoud return True\n",
    "   - anagram_check(\"star\", \"rats\") shoud return True\n",
    "   - anagram_check(\"aaab\", \"aabb\") shoud return False"
   ]
  },
  {
   "cell_type": "markdown",
   "id": "66650d8a-4d8d-492e-a45a-9c8cf1871aae",
   "metadata": {},
   "source": [
    "1. define a function \"anagram_check\" with two parameters (string: w1) and (string: w2)\n",
    "2. convert strings to lowercase\n",
    "3. remove spaces for each string\n",
    "4. add a counter equals 0\n",
    "5. if length of w1 is not equals to w2, return False\n",
    "6. check the presence of each letter of w1 in w2\n",
    "7. if there is no letter present, it returns false\n",
    "8. remove the char matches in w2\n",
    "9. increment a counter every time a letter is reviewed\n",
    "10. if counter is equals to length of w1 return True"
   ]
  },
  {
   "cell_type": "code",
   "execution_count": 21,
   "id": "e41ddc6a-c279-431c-87a2-3f927a868ab6",
   "metadata": {},
   "outputs": [
    {
     "data": {
      "text/plain": [
       "True"
      ]
     },
     "execution_count": 21,
     "metadata": {},
     "output_type": "execute_result"
    }
   ],
   "source": [
    "def anagram_check(w1, w2): \n",
    "    \n",
    "    w1 = [i.lower() for i in w1 if i != ' ']\n",
    "    w2 = [i.lower() for i in w2 if i != ' ']\n",
    "\n",
    "    cont = 0\n",
    "    if len(w1) == len(w2):\n",
    "    \n",
    "        if w1 == w2:\n",
    "            return True\n",
    "    \n",
    "        else:\n",
    "            for i in w1:\n",
    "                if i in w2:\n",
    "                    w2.remove(i)\n",
    "                    cont += 1\n",
    "                else:\n",
    "                    return False\n",
    "            if cont == len(w1):\n",
    "                return True\n",
    "    \n",
    "    else:\n",
    "        return False\n",
    "\n",
    "anagram_check(\"Tom Marvolo Riddle\", \"I am Lord Voldemort\") \n"
   ]
  },
  {
   "cell_type": "code",
   "execution_count": null,
   "id": "24aea5bc-b4ce-40ef-a054-b5e86f0fdc83",
   "metadata": {},
   "outputs": [],
   "source": []
  }
 ],
 "metadata": {
  "kernelspec": {
   "display_name": "Python 3 (ipykernel)",
   "language": "python",
   "name": "python3"
  },
  "language_info": {
   "codemirror_mode": {
    "name": "ipython",
    "version": 3
   },
   "file_extension": ".py",
   "mimetype": "text/x-python",
   "name": "python",
   "nbconvert_exporter": "python",
   "pygments_lexer": "ipython3",
   "version": "3.10.12"
  }
 },
 "nbformat": 4,
 "nbformat_minor": 5
}
