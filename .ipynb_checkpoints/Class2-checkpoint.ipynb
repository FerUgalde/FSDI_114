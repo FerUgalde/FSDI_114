{
 "cells": [
  {
   "cell_type": "code",
   "execution_count": 2,
   "id": "1b2fe050-1605-42e0-bf20-4b0695323dc0",
   "metadata": {},
   "outputs": [],
   "source": [
    "# Simplified implementations of stack (using built-ins)\n",
    "\n",
    "class Stack:\n",
    "    def __init__(self):\n",
    "        self.items = []\n",
    "\n",
    "    def push(self, value):\n",
    "        self.items.append(value)\n",
    "\n",
    "    def pop(self):\n",
    "        return self.items.pop()\n",
    "\n",
    "    # nice to have methods\n",
    "    def size(self):\n",
    "        return len(self.items)\n",
    "\n",
    "    def peek(self):\n",
    "        return self.items[len(self.items)-1]\n",
    "\n",
    "    def is_empty(self):\n",
    "        return self.items == []"
   ]
  },
  {
   "cell_type": "code",
   "execution_count": 3,
   "id": "535f3189-ba56-46c4-9090-211f13ba0ba9",
   "metadata": {},
   "outputs": [
    {
     "data": {
      "text/plain": [
       "'adnanreF'"
      ]
     },
     "execution_count": 3,
     "metadata": {},
     "output_type": "execute_result"
    }
   ],
   "source": [
    "def invert_str(somestring):\n",
    "    stack = Stack()\n",
    "    for char in somestring:\n",
    "        stack.push(char)\n",
    "    out = \"\"\n",
    "    while not stack.is_empty():\n",
    "        out += stack.pop()\n",
    "    return out\n",
    "\n",
    "invert_str(\"Fernanda\")"
   ]
  },
  {
   "cell_type": "code",
   "execution_count": 6,
   "id": "97ccac2f-fabd-432e-948b-8f9f0563ead3",
   "metadata": {},
   "outputs": [
    {
     "name": "stdout",
     "output_type": "stream",
     "text": [
      "140136540520848\n",
      "140136540520816\n"
     ]
    }
   ],
   "source": [
    "# in python, the primary data types are:\n",
    "# int, bool, float\n",
    "\n",
    "x = 5\n",
    "y = x\n",
    "x += 1\n",
    "\n",
    "print(id(x))\n",
    "print(id(y))"
   ]
  },
  {
   "cell_type": "code",
   "execution_count": 7,
   "id": "b6f60b08-38af-4859-a03e-42754989da5c",
   "metadata": {},
   "outputs": [
    {
     "name": "stdout",
     "output_type": "stream",
     "text": [
      "[1, 2, 3, 4]\n",
      "140136216728768\n",
      "140136216728768\n"
     ]
    }
   ],
   "source": [
    "# other data types and structures pass by reference\n",
    "\n",
    "x = [1, 2, 3]\n",
    "y = x\n",
    "y.append(4)\n",
    "\n",
    "print(x)\n",
    "print(id(x))\n",
    "print(id(y))"
   ]
  },
  {
   "cell_type": "code",
   "execution_count": 29,
   "id": "09014c51-4af4-4392-b760-f966755664a2",
   "metadata": {},
   "outputs": [],
   "source": [
    "class StackII:\n",
    "    class __Node:\n",
    "        def __init__(self, data):\n",
    "            self.data = data\n",
    "            self.below = None\n",
    "\n",
    "    def __init__(self):\n",
    "        self.top = None\n",
    "        self.length = 0\n",
    "\n",
    "    def push(self, value):\n",
    "        # create a new node \n",
    "        # if the stack is empty the self.top is equals to the new node\n",
    "        # else, the below of the new node is equals to the self.top\n",
    "        # now the self.top will be equals to the new node\n",
    "        # increase 1 the sizce of the stack\n",
    "        new_node = self.__Node(value)\n",
    "        if self.length == 0:\n",
    "            self.top = new_node\n",
    "        else:\n",
    "            new_node.below = self.top\n",
    "            self.top = new_node\n",
    "        self.length += 1\n",
    "\n",
    "    def pop(self):\n",
    "        # if the size of stack is equal to 0, self.top is equals to None\n",
    "        # else save self.top in a variable temp\n",
    "        # now self.top is equals to temp.below\n",
    "        # decrease 1 the sizce of the stack\n",
    "        if self.length == 0:\n",
    "            self.top = None\n",
    "        else:\n",
    "            temp = self.top\n",
    "            self.top = temp.below\n",
    "            self.length -= 1\n",
    "            # if self.top:\n",
    "                # datum = self.top.data\n",
    "                # self.top = self.top.below\n",
    "                # return datum\n",
    "            # raise IndexError(\"Stack is empty\")\n",
    "\n",
    "    # nice to have methods\n",
    "    def size(self):\n",
    "        # return the self.length\n",
    "        return self.length\n",
    "\n",
    "    def peek(self):\n",
    "        # save the self.top in temp (temporal variable)\n",
    "        # while temp is not euals to None print the temp.data\n",
    "        # the temp update with the below of the node\n",
    "        temp = self.top\n",
    "        while temp is not None:\n",
    "            print(temp.data)\n",
    "            temp = temp.below\n",
    "\n",
    "    def is_empty(self):\n",
    "        # the self.top will be equals to None\n",
    "        # the size of the node will be equals to 0\n",
    "        self.top = None\n",
    "        self.length = 0"
   ]
  },
  {
   "cell_type": "code",
   "execution_count": 30,
   "id": "f6a823f0-853b-4241-b040-062f009c989a",
   "metadata": {},
   "outputs": [
    {
     "name": "stdout",
     "output_type": "stream",
     "text": [
      "5\n",
      "4\n"
     ]
    }
   ],
   "source": [
    "stack = StackII()\n",
    "stack.push(4)\n",
    "stack.push(5)\n",
    "stack.push(8)\n",
    "\n",
    "stack.pop()\n",
    "\n",
    "#stack.is_empty()\n",
    "stack.peek()\n"
   ]
  },
  {
   "cell_type": "code",
   "execution_count": null,
   "id": "f4e7efc3-60c6-4d5d-8b58-81ed6360a905",
   "metadata": {},
   "outputs": [],
   "source": []
  }
 ],
 "metadata": {
  "kernelspec": {
   "display_name": "Python 3 (ipykernel)",
   "language": "python",
   "name": "python3"
  },
  "language_info": {
   "codemirror_mode": {
    "name": "ipython",
    "version": 3
   },
   "file_extension": ".py",
   "mimetype": "text/x-python",
   "name": "python",
   "nbconvert_exporter": "python",
   "pygments_lexer": "ipython3",
   "version": "3.10.12"
  }
 },
 "nbformat": 4,
 "nbformat_minor": 5
}
